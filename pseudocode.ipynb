{
 "cells": [
  {
   "cell_type": "code",
   "execution_count": null,
   "id": "248a8de6-b582-4aac-9fd5-4049f28df551",
   "metadata": {},
   "outputs": [],
   "source": [
    "Display \"hello\"\n",
    "Read height \n",
    "divide age by n\n",
    "store to gender\n",
    "if height true Then move to \"group A\"\n",
    "or else move to \"group B\"\n",
    "Endif "
   ]
  }
 ],
 "metadata": {
  "kernelspec": {
   "display_name": "Python 3 (ipykernel)",
   "language": "python",
   "name": "python3"
  },
  "language_info": {
   "codemirror_mode": {
    "name": "ipython",
    "version": 3
   },
   "file_extension": ".py",
   "mimetype": "text/x-python",
   "name": "python",
   "nbconvert_exporter": "python",
   "pygments_lexer": "ipython3",
   "version": "3.13.5"
  }
 },
 "nbformat": 4,
 "nbformat_minor": 5
}
